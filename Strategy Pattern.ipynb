{
 "cells": [
  {
   "cell_type": "markdown",
   "metadata": {},
   "source": [
    "# Strategy Pattern"
   ]
  },
  {
   "cell_type": "code",
   "execution_count": 11,
   "metadata": {},
   "outputs": [],
   "source": [
    "from abc import ABC, abstractmethod\n",
    "\n",
    "class Strategy(ABC):\n",
    "    @abstractmethod\n",
    "    def process_request(self, data):\n",
    "        pass\n",
    "class ConcreteStrategy1(Strategy):\n",
    "    def process_request(self, data):\n",
    "        print(\"Strategy1: Processing request\")\n",
    "    \n",
    "class ConcreteStrategy2(Strategy):\n",
    "    def process_request(self, data):\n",
    "        print(\"Strategy2: Processing request\")\n",
    "\n",
    "class Context():\n",
    "    def __init__(self, strategy: Strategy):\n",
    "        self._strategy = strategy\n",
    "    \n",
    "    def process(self, data):\n",
    "        self._strategy.process_request(data)"
   ]
  },
  {
   "cell_type": "code",
   "execution_count": 12,
   "metadata": {},
   "outputs": [
    {
     "name": "stdout",
     "output_type": "stream",
     "text": [
      "Strategy1: Processing request\n"
     ]
    }
   ],
   "source": [
    "cs1 = ConcreteStrategy1()\n",
    "Context(cs1).process([1,2,3,4])"
   ]
  },
  {
   "cell_type": "markdown",
   "metadata": {},
   "source": [
    "## Real-World Analogy"
   ]
  },
  {
   "cell_type": "code",
   "execution_count": 15,
   "metadata": {},
   "outputs": [],
   "source": [
    "class TransitStrategy(ABC):\n",
    "    @abstractmethod\n",
    "    def get_route(self, starting_point, destination):\n",
    "        pass\n",
    "\n",
    "class PublicTransit(TransitStrategy):\n",
    "    def get_route(self, starting_point, destination):\n",
    "        print(\"PublicTransit: generating route\")\n",
    "        return 1\n",
    "\n",
    "class CarTransit(TransitStrategy):\n",
    "    def get_route(self, starting_point, destination):\n",
    "        print(\"CarTransit: generating route\")\n",
    "        return 2\n",
    "\n",
    "class BikeTransit(TransitStrategy):\n",
    "    def get_route(self, starting_point, destination):\n",
    "        print(\"BikeTransit: generating route\")\n",
    "        return 3\n",
    "    \n",
    "class RouteContext:\n",
    "    def __init__(self, transit):\n",
    "        self._transit = transit\n",
    "    @property\n",
    "    def transit(self):\n",
    "        return self._transit\n",
    "    @transit.setter\n",
    "    def transit(self, transit):\n",
    "        self._transit = transit\n",
    "    \n",
    "    def get_path(self, start, end):\n",
    "        return self._transit.get_route(start, end)"
   ]
  },
  {
   "cell_type": "code",
   "execution_count": 16,
   "metadata": {},
   "outputs": [
    {
     "name": "stdout",
     "output_type": "stream",
     "text": [
      "PublicTransit: generating route\n",
      "BikeTransit: generating route\n"
     ]
    },
    {
     "data": {
      "text/plain": [
       "3"
      ]
     },
     "execution_count": 16,
     "metadata": {},
     "output_type": "execute_result"
    }
   ],
   "source": [
    "route = RouteContext(PublicTransit())\n",
    "route.get_path(1, 2)\n",
    "route.transit = BikeTransit()\n",
    "route.get_path(1, 2)"
   ]
  },
  {
   "cell_type": "code",
   "execution_count": null,
   "metadata": {},
   "outputs": [],
   "source": []
  },
  {
   "cell_type": "code",
   "execution_count": null,
   "metadata": {},
   "outputs": [],
   "source": []
  }
 ],
 "metadata": {
  "kernelspec": {
   "display_name": "Python 3",
   "language": "python",
   "name": "python3"
  },
  "language_info": {
   "codemirror_mode": {
    "name": "ipython",
    "version": 3
   },
   "file_extension": ".py",
   "mimetype": "text/x-python",
   "name": "python",
   "nbconvert_exporter": "python",
   "pygments_lexer": "ipython3",
   "version": "3.8.5"
  }
 },
 "nbformat": 4,
 "nbformat_minor": 4
}
