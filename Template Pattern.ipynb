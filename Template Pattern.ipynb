{
 "cells": [
  {
   "cell_type": "markdown",
   "metadata": {},
   "source": [
    "# Template Pattern"
   ]
  },
  {
   "cell_type": "code",
   "execution_count": 6,
   "metadata": {},
   "outputs": [],
   "source": [
    "from abc import ABC, abstractmethod\n",
    "\n",
    "\n",
    "class AbstractClass(ABC):\n",
    "    def template_method(self):\n",
    "        self.base_operation1()\n",
    "        self.required_operation1()\n",
    "        self.base_operation2()\n",
    "        self.hook1()\n",
    "        self.required_operation2()\n",
    "        self.base_operation3()\n",
    "        self.hook2()\n",
    "        \n",
    "    def base_operation1(self):\n",
    "        print(\"Abstract class's base operation 1 implementation\")\n",
    "    \n",
    "    def base_operation2(self):\n",
    "        print(\"Abstract class's base operation 2 implementation\")\n",
    "    \n",
    "    def base_operation3(self):\n",
    "        print(\"Abstract class's base operation 3 implementation\")\n",
    "    \n",
    "    @abstractmethod\n",
    "    def required_operation1(self):\n",
    "        pass\n",
    "    \n",
    "    @abstractmethod\n",
    "    def required_operation2(self):\n",
    "        pass\n",
    "    \n",
    "    def hook1(self):\n",
    "        print(\"base hook 1\")\n",
    "    \n",
    "    def hook2(self):\n",
    "        print(\"base hook 2\")\n",
    "    \n",
    "    "
   ]
  },
  {
   "cell_type": "code",
   "execution_count": 7,
   "metadata": {},
   "outputs": [],
   "source": [
    "class ConcreteClass1(AbstractClass):\n",
    "\n",
    "    def required_operation1(self) -> None:\n",
    "        print(\"ConcreteClass1 says: Implemented Operation1\")\n",
    "\n",
    "    def required_operation2(self) -> None:\n",
    "        print(\"ConcreteClass1 says: Implemented Operation2\")\n"
   ]
  },
  {
   "cell_type": "code",
   "execution_count": 8,
   "metadata": {},
   "outputs": [],
   "source": [
    "class ConcreteClass2(AbstractClass):\n",
    "\n",
    "    def required_operation1(self) -> None:\n",
    "        print(\"ConcreteClass2 says: Implemented Operation1\")\n",
    "\n",
    "    def required_operation2(self) -> None:\n",
    "        print(\"ConcreteClass2 says: Implemented Operation2\")\n"
   ]
  },
  {
   "cell_type": "code",
   "execution_count": 9,
   "metadata": {},
   "outputs": [
    {
     "name": "stdout",
     "output_type": "stream",
     "text": [
      "Abstract class's base operation 1 implementation\n",
      "ConcreteClass2 says: Implemented Operation1\n",
      "Abstract class's base operation 2 implementation\n",
      "base hook 1\n",
      "ConcreteClass2 says: Implemented Operation2\n",
      "Abstract class's base operation 3 implementation\n",
      "base hook 2\n"
     ]
    }
   ],
   "source": [
    "ConcreteClass2().template_method()"
   ]
  },
  {
   "cell_type": "code",
   "execution_count": null,
   "metadata": {},
   "outputs": [],
   "source": []
  }
 ],
 "metadata": {
  "kernelspec": {
   "display_name": "Python 3",
   "language": "python",
   "name": "python3"
  },
  "language_info": {
   "codemirror_mode": {
    "name": "ipython",
    "version": 3
   },
   "file_extension": ".py",
   "mimetype": "text/x-python",
   "name": "python",
   "nbconvert_exporter": "python",
   "pygments_lexer": "ipython3",
   "version": "3.8.5"
  }
 },
 "nbformat": 4,
 "nbformat_minor": 4
}
