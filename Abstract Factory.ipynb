{
 "cells": [
  {
   "cell_type": "code",
   "execution_count": 1,
   "metadata": {},
   "outputs": [],
   "source": [
    "from abc import ABC, abstractmethod"
   ]
  },
  {
   "cell_type": "code",
   "execution_count": 9,
   "metadata": {},
   "outputs": [],
   "source": [
    "class AbstractFactory(ABC):\n",
    "    @abstractmethod\n",
    "    def create_product_a(self):\n",
    "        pass\n",
    "    \n",
    "    @abstractmethod\n",
    "    def create_product_b(self):\n",
    "        pass\n",
    "\n",
    "class ConcreteFactory1(AbstractFactory):\n",
    "    def create_product_a(self):\n",
    "        return ConcreteProductA1()\n",
    "    \n",
    "    def create_product_b(self):\n",
    "        return ConcreteProductB1()\n",
    "\n",
    "class ConcreteFactory2(AbstractFactory):\n",
    "    def create_product_a(self):\n",
    "        return ConcreteProductA2()\n",
    "    \n",
    "    def create_product_b(self):\n",
    "        return ConcreteProductB2()\n",
    "\n",
    "\n"
   ]
  },
  {
   "cell_type": "code",
   "execution_count": 10,
   "metadata": {},
   "outputs": [],
   "source": [
    "class AbstractProductA(ABC):\n",
    "    @abstractmethod\n",
    "    def useful_function_a(self):\n",
    "        pass\n",
    "\n",
    "class ConcreteProductA1(AbstractProductA):\n",
    "    def useful_function_a(self) -> str:\n",
    "        return \"The result of the product A1.\"\n",
    "\n",
    "\n",
    "class ConcreteProductA2(AbstractProductA):\n",
    "    def useful_function_a(self) -> str:\n",
    "        return \"The result of the product A2.\"\n",
    "    \n"
   ]
  },
  {
   "cell_type": "code",
   "execution_count": 12,
   "metadata": {},
   "outputs": [],
   "source": [
    "class AbstractProductB(ABC):\n",
    "    @abstractmethod\n",
    "    def useful_function_b(self):\n",
    "        pass\n",
    "\n",
    "class ConcreteProductB1(AbstractProductB):\n",
    "    def useful_function_b(self) -> str:\n",
    "        return \"The result of the product B1.\"\n",
    "\n",
    "\n",
    "class ConcreteProductB2(AbstractProductB):\n",
    "    def useful_function_b(self) -> str:\n",
    "        return \"The result of the product B2.\""
   ]
  },
  {
   "cell_type": "code",
   "execution_count": 17,
   "metadata": {},
   "outputs": [],
   "source": [
    "def client_code(factory):\n",
    "    product_a = factory.create_product_a()\n",
    "    product_b = factory.create_product_b()\n",
    "\n",
    "    print(f\"{product_b.useful_function_b()}\")\n",
    "    "
   ]
  },
  {
   "cell_type": "code",
   "execution_count": 18,
   "metadata": {},
   "outputs": [
    {
     "name": "stdout",
     "output_type": "stream",
     "text": [
      "The result of the product B1.\n"
     ]
    }
   ],
   "source": [
    "client_code(ConcreteFactory1())"
   ]
  },
  {
   "cell_type": "code",
   "execution_count": null,
   "metadata": {},
   "outputs": [],
   "source": []
  }
 ],
 "metadata": {
  "kernelspec": {
   "display_name": "jupyter_venv",
   "language": "python",
   "name": "jupyter_venv"
  },
  "language_info": {
   "codemirror_mode": {
    "name": "ipython",
    "version": 3
   },
   "file_extension": ".py",
   "mimetype": "text/x-python",
   "name": "python",
   "nbconvert_exporter": "python",
   "pygments_lexer": "ipython3",
   "version": "3.8.5"
  }
 },
 "nbformat": 4,
 "nbformat_minor": 4
}
