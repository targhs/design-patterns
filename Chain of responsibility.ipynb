{
 "cells": [
  {
   "cell_type": "markdown",
   "metadata": {},
   "source": [
    "A real use case could be when you are developing an\n",
    "application employee applies for a leave be it `x`\n",
    "\n",
    "TL can approve upto 10 leaves\n",
    "Project leader can approve 20\n",
    "HR can approve 30\n",
    "\n",
    "Depending upon how many leaves are applied it will be \n",
    "hanlded by diff handler\n"
   ]
  },
  {
   "cell_type": "code",
   "execution_count": 17,
   "metadata": {},
   "outputs": [],
   "source": [
    "class AbstractHandler():\n",
    "    def __init__(self, nxt):\n",
    "        self._nxt = nxt\n",
    "        \n",
    "    def handle(self, request):\n",
    "        handled = self.processRequest(request)\n",
    "        if not handled:\n",
    "            self._nxt.handle(request)\n",
    "    \n",
    "    def processRequest(self, request):\n",
    "        raise NotImplementedError()\n",
    "    \n",
    "class FirstConcreteHandler(AbstractHandler):  \n",
    "    def processRequest(self, request): \n",
    "        if 'a' < request <= 'e': \n",
    "            print(\"This is {} handling request '{}'\".format(self.__class__.__name__, request)) \n",
    "            return True\n",
    "\n",
    "class SecondConcreteHandler(AbstractHandler): \n",
    "    def processRequest(self, request): \n",
    "        if 'e' < request <= 'l': \n",
    "            print(\"This is {} handling request '{}'\".format(self.__class__.__name__, request)) \n",
    "            return True\n",
    "\n",
    "class ThirdConcreteHandler(AbstractHandler): \n",
    "    def processRequest(self, request): \n",
    "        if 'l' < request <= 'z': \n",
    "            print(\"This is {} handling request '{}'\".format(self.__class__.__name__, request)) \n",
    "            return True\n",
    "\n",
    "class DefaultHandler(AbstractHandler): \n",
    "    def processRequest(self, request): \n",
    "        print(\"This is {} telling you that request '{}' has no handler right now.\".format(self.__class__.__name__, request)) \n",
    "        return True"
   ]
  },
  {
   "cell_type": "code",
   "execution_count": 18,
   "metadata": {},
   "outputs": [],
   "source": [
    "handler = FirstConcreteHandler(SecondConcreteHandler(ThirdConcreteHandler(DefaultHandler(None))))"
   ]
  },
  {
   "cell_type": "code",
   "execution_count": 19,
   "metadata": {},
   "outputs": [
    {
     "name": "stdout",
     "output_type": "stream",
     "text": [
      "This is DefaultHandler telling you that request '1' has no handler right now.\n"
     ]
    }
   ],
   "source": [
    "handler.handle('1')"
   ]
  },
  {
   "cell_type": "code",
   "execution_count": null,
   "metadata": {},
   "outputs": [],
   "source": []
  },
  {
   "cell_type": "code",
   "execution_count": null,
   "metadata": {},
   "outputs": [],
   "source": []
  }
 ],
 "metadata": {
  "kernelspec": {
   "display_name": "jupyter_venv",
   "language": "python",
   "name": "jupyter_venv"
  },
  "language_info": {
   "codemirror_mode": {
    "name": "ipython",
    "version": 3
   },
   "file_extension": ".py",
   "mimetype": "text/x-python",
   "name": "python",
   "nbconvert_exporter": "python",
   "pygments_lexer": "ipython3",
   "version": "3.8.5"
  }
 },
 "nbformat": 4,
 "nbformat_minor": 4
}
